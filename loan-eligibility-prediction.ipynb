{
 "cells": [
  {
   "cell_type": "markdown",
   "id": "a46c6654",
   "metadata": {
    "id": "1iW8OmMuUTLm",
    "papermill": {
     "duration": 0.010155,
     "end_time": "2023-06-18T12:37:59.195483",
     "exception": false,
     "start_time": "2023-06-18T12:37:59.185328",
     "status": "completed"
    },
    "tags": []
   },
   "source": [
    "# **Loan Eligibility Prediction and Analysis**"
   ]
  },
  {
   "cell_type": "markdown",
   "id": "24c9043a",
   "metadata": {
    "id": "B3-jjymEn5My",
    "papermill": {
     "duration": 0.009389,
     "end_time": "2023-06-18T12:37:59.214750",
     "exception": false,
     "start_time": "2023-06-18T12:37:59.205361",
     "status": "completed"
    },
    "tags": []
   },
   "source": [
    "\n",
    "\n",
    "Loan eligibility analysis refers to the process of evaluating an individual's or a company's qualifications for obtaining a loan from a financial institution. Lenders assess various factors to determine whether an applicant meets the requirements for borrowing money. This analysis plays a crucial role in determining the borrower's ability to repay the loan and mitigating the lender's risk.\n"
   ]
  },
  {
   "cell_type": "markdown",
   "id": "535b2f7d",
   "metadata": {
    "id": "Wfs9_niyJeAx",
    "papermill": {
     "duration": 0.009452,
     "end_time": "2023-06-18T12:37:59.233710",
     "exception": false,
     "start_time": "2023-06-18T12:37:59.224258",
     "status": "completed"
    },
    "tags": []
   },
   "source": []
  },
  {
   "cell_type": "markdown",
   "id": "8eb00d9f",
   "metadata": {
    "id": "Xir4RC1YoBMs",
    "papermill": {
     "duration": 0.009326,
     "end_time": "2023-06-18T12:37:59.252562",
     "exception": false,
     "start_time": "2023-06-18T12:37:59.243236",
     "status": "completed"
    },
    "tags": []
   },
   "source": [
    "Following data analysis are done on the dataset for the activity:\n",
    "\n",
    "1) Training the data to predict loan eligibility\n",
    "\n",
    "2) Using a pie chart determine which type of area got loan eligibility\n",
    "\n",
    "3) Using stacked bar graph check classify the loan eligibility on the basis of education background. Check both the applied and eligible rate using the graph\n",
    "\n",
    "4) Any correlation between credit history and loan eligibility"
   ]
  },
  {
   "cell_type": "code",
   "execution_count": 1,
   "id": "ad360e08",
   "metadata": {
    "execution": {
     "iopub.execute_input": "2023-06-18T12:37:59.274025Z",
     "iopub.status.busy": "2023-06-18T12:37:59.273363Z",
     "iopub.status.idle": "2023-06-18T12:38:00.803555Z",
     "shell.execute_reply": "2023-06-18T12:38:00.802552Z"
    },
    "id": "unzHiZ_pnthI",
    "outputId": "6a5f8adb-06e2-40db-a725-e7dfa82e5a88",
    "papermill": {
     "duration": 1.543751,
     "end_time": "2023-06-18T12:38:00.805929",
     "exception": false,
     "start_time": "2023-06-18T12:37:59.262178",
     "status": "completed"
    },
    "tags": []
   },
   "outputs": [
    {
     "data": {
      "text/html": [
       "<div>\n",
       "<style scoped>\n",
       "    .dataframe tbody tr th:only-of-type {\n",
       "        vertical-align: middle;\n",
       "    }\n",
       "\n",
       "    .dataframe tbody tr th {\n",
       "        vertical-align: top;\n",
       "    }\n",
       "\n",
       "    .dataframe thead th {\n",
       "        text-align: right;\n",
       "    }\n",
       "</style>\n",
       "<table border=\"1\" class=\"dataframe\">\n",
       "  <thead>\n",
       "    <tr style=\"text-align: right;\">\n",
       "      <th></th>\n",
       "      <th>Loan_ID</th>\n",
       "      <th>Gender</th>\n",
       "      <th>Married</th>\n",
       "      <th>Dependents</th>\n",
       "      <th>Education</th>\n",
       "      <th>Self_Employed</th>\n",
       "      <th>ApplicantIncome</th>\n",
       "      <th>CoapplicantIncome</th>\n",
       "      <th>LoanAmount</th>\n",
       "      <th>Loan_Amount_Term</th>\n",
       "      <th>Credit_History</th>\n",
       "      <th>Property_Area</th>\n",
       "      <th>Loan_Status</th>\n",
       "    </tr>\n",
       "  </thead>\n",
       "  <tbody>\n",
       "    <tr>\n",
       "      <th>0</th>\n",
       "      <td>LP001002</td>\n",
       "      <td>Male</td>\n",
       "      <td>No</td>\n",
       "      <td>0</td>\n",
       "      <td>Graduate</td>\n",
       "      <td>No</td>\n",
       "      <td>5849</td>\n",
       "      <td>0.0</td>\n",
       "      <td>NaN</td>\n",
       "      <td>360.0</td>\n",
       "      <td>1.0</td>\n",
       "      <td>Urban</td>\n",
       "      <td>Y</td>\n",
       "    </tr>\n",
       "    <tr>\n",
       "      <th>1</th>\n",
       "      <td>LP001003</td>\n",
       "      <td>Male</td>\n",
       "      <td>Yes</td>\n",
       "      <td>1</td>\n",
       "      <td>Graduate</td>\n",
       "      <td>No</td>\n",
       "      <td>4583</td>\n",
       "      <td>1508.0</td>\n",
       "      <td>128.0</td>\n",
       "      <td>360.0</td>\n",
       "      <td>1.0</td>\n",
       "      <td>Rural</td>\n",
       "      <td>N</td>\n",
       "    </tr>\n",
       "    <tr>\n",
       "      <th>2</th>\n",
       "      <td>LP001005</td>\n",
       "      <td>Male</td>\n",
       "      <td>Yes</td>\n",
       "      <td>0</td>\n",
       "      <td>Graduate</td>\n",
       "      <td>Yes</td>\n",
       "      <td>3000</td>\n",
       "      <td>0.0</td>\n",
       "      <td>66.0</td>\n",
       "      <td>360.0</td>\n",
       "      <td>1.0</td>\n",
       "      <td>Urban</td>\n",
       "      <td>Y</td>\n",
       "    </tr>\n",
       "    <tr>\n",
       "      <th>3</th>\n",
       "      <td>LP001006</td>\n",
       "      <td>Male</td>\n",
       "      <td>Yes</td>\n",
       "      <td>0</td>\n",
       "      <td>Not Graduate</td>\n",
       "      <td>No</td>\n",
       "      <td>2583</td>\n",
       "      <td>2358.0</td>\n",
       "      <td>120.0</td>\n",
       "      <td>360.0</td>\n",
       "      <td>1.0</td>\n",
       "      <td>Urban</td>\n",
       "      <td>Y</td>\n",
       "    </tr>\n",
       "    <tr>\n",
       "      <th>4</th>\n",
       "      <td>LP001008</td>\n",
       "      <td>Male</td>\n",
       "      <td>No</td>\n",
       "      <td>0</td>\n",
       "      <td>Graduate</td>\n",
       "      <td>No</td>\n",
       "      <td>6000</td>\n",
       "      <td>0.0</td>\n",
       "      <td>141.0</td>\n",
       "      <td>360.0</td>\n",
       "      <td>1.0</td>\n",
       "      <td>Urban</td>\n",
       "      <td>Y</td>\n",
       "    </tr>\n",
       "  </tbody>\n",
       "</table>\n",
       "</div>"
      ],
      "text/plain": [
       "    Loan_ID Gender Married Dependents     Education Self_Employed  \\\n",
       "0  LP001002   Male      No          0      Graduate            No   \n",
       "1  LP001003   Male     Yes          1      Graduate            No   \n",
       "2  LP001005   Male     Yes          0      Graduate           Yes   \n",
       "3  LP001006   Male     Yes          0  Not Graduate            No   \n",
       "4  LP001008   Male      No          0      Graduate            No   \n",
       "\n",
       "   ApplicantIncome  CoapplicantIncome  LoanAmount  Loan_Amount_Term  \\\n",
       "0             5849                0.0         NaN             360.0   \n",
       "1             4583             1508.0       128.0             360.0   \n",
       "2             3000                0.0        66.0             360.0   \n",
       "3             2583             2358.0       120.0             360.0   \n",
       "4             6000                0.0       141.0             360.0   \n",
       "\n",
       "   Credit_History Property_Area Loan_Status  \n",
       "0             1.0         Urban           Y  \n",
       "1             1.0         Rural           N  \n",
       "2             1.0         Urban           Y  \n",
       "3             1.0         Urban           Y  \n",
       "4             1.0         Urban           Y  "
      ]
     },
     "execution_count": 1,
     "metadata": {},
     "output_type": "execute_result"
    }
   ],
   "source": [
    "#Python Program\n",
    "\n",
    "import pandas as pd\n",
    "import numpy as np\n",
    "import matplotlib.pyplot as plt\n",
    "import seaborn as sns\n",
    "\n",
    "from sklearn.model_selection import train_test_split\n",
    "from sklearn.linear_model import LogisticRegression\n",
    "from sklearn.metrics import confusion_matrix, accuracy_score, classification_report\n",
    "\n",
    "data = pd.read_csv(\"/kaggle/input/eligibility-prediction-for-loan/Loan_Data.csv\")\n",
    "data.head()"
   ]
  },
  {
   "cell_type": "code",
   "execution_count": 2,
   "id": "98c899f4",
   "metadata": {
    "execution": {
     "iopub.execute_input": "2023-06-18T12:38:00.828066Z",
     "iopub.status.busy": "2023-06-18T12:38:00.827627Z",
     "iopub.status.idle": "2023-06-18T12:38:00.834252Z",
     "shell.execute_reply": "2023-06-18T12:38:00.833270Z"
    },
    "id": "Lab9RjgW7q_6",
    "outputId": "774e5575-a95e-4953-c7b6-535689140356",
    "papermill": {
     "duration": 0.019791,
     "end_time": "2023-06-18T12:38:00.836355",
     "exception": false,
     "start_time": "2023-06-18T12:38:00.816564",
     "status": "completed"
    },
    "tags": []
   },
   "outputs": [
    {
     "data": {
      "text/plain": [
       "['Loan_ID',\n",
       " 'Gender',\n",
       " 'Married',\n",
       " 'Dependents',\n",
       " 'Education',\n",
       " 'Self_Employed',\n",
       " 'ApplicantIncome',\n",
       " 'CoapplicantIncome',\n",
       " 'LoanAmount',\n",
       " 'Loan_Amount_Term',\n",
       " 'Credit_History',\n",
       " 'Property_Area',\n",
       " 'Loan_Status']"
      ]
     },
     "execution_count": 2,
     "metadata": {},
     "output_type": "execute_result"
    }
   ],
   "source": [
    "list(data)"
   ]
  },
  {
   "cell_type": "code",
   "execution_count": 3,
   "id": "b2b3ee39",
   "metadata": {
    "execution": {
     "iopub.execute_input": "2023-06-18T12:38:00.858195Z",
     "iopub.status.busy": "2023-06-18T12:38:00.857847Z",
     "iopub.status.idle": "2023-06-18T12:38:00.881355Z",
     "shell.execute_reply": "2023-06-18T12:38:00.880364Z"
    },
    "id": "8BBt3plqz4ge",
    "outputId": "1ca41848-a014-4a4c-c4d9-d5d07bc1b89b",
    "papermill": {
     "duration": 0.036758,
     "end_time": "2023-06-18T12:38:00.883332",
     "exception": false,
     "start_time": "2023-06-18T12:38:00.846574",
     "status": "completed"
    },
    "tags": []
   },
   "outputs": [
    {
     "name": "stdout",
     "output_type": "stream",
     "text": [
      "<class 'pandas.core.frame.DataFrame'>\n",
      "RangeIndex: 614 entries, 0 to 613\n",
      "Data columns (total 13 columns):\n",
      " #   Column             Non-Null Count  Dtype  \n",
      "---  ------             --------------  -----  \n",
      " 0   Loan_ID            614 non-null    object \n",
      " 1   Gender             601 non-null    object \n",
      " 2   Married            611 non-null    object \n",
      " 3   Dependents         599 non-null    object \n",
      " 4   Education          614 non-null    object \n",
      " 5   Self_Employed      582 non-null    object \n",
      " 6   ApplicantIncome    614 non-null    int64  \n",
      " 7   CoapplicantIncome  614 non-null    float64\n",
      " 8   LoanAmount         592 non-null    float64\n",
      " 9   Loan_Amount_Term   600 non-null    float64\n",
      " 10  Credit_History     564 non-null    float64\n",
      " 11  Property_Area      614 non-null    object \n",
      " 12  Loan_Status        614 non-null    object \n",
      "dtypes: float64(4), int64(1), object(8)\n",
      "memory usage: 62.5+ KB\n"
     ]
    }
   ],
   "source": [
    "data.info()"
   ]
  },
  {
   "cell_type": "code",
   "execution_count": 4,
   "id": "6b915d99",
   "metadata": {
    "execution": {
     "iopub.execute_input": "2023-06-18T12:38:00.906774Z",
     "iopub.status.busy": "2023-06-18T12:38:00.906123Z",
     "iopub.status.idle": "2023-06-18T12:38:00.930570Z",
     "shell.execute_reply": "2023-06-18T12:38:00.929647Z"
    },
    "id": "Tq2ywvtrz6W8",
    "outputId": "c484f4bc-4a13-4437-b8e7-8c5ae488be38",
    "papermill": {
     "duration": 0.037988,
     "end_time": "2023-06-18T12:38:00.932772",
     "exception": false,
     "start_time": "2023-06-18T12:38:00.894784",
     "status": "completed"
    },
    "tags": []
   },
   "outputs": [
    {
     "data": {
      "text/html": [
       "<div>\n",
       "<style scoped>\n",
       "    .dataframe tbody tr th:only-of-type {\n",
       "        vertical-align: middle;\n",
       "    }\n",
       "\n",
       "    .dataframe tbody tr th {\n",
       "        vertical-align: top;\n",
       "    }\n",
       "\n",
       "    .dataframe thead th {\n",
       "        text-align: right;\n",
       "    }\n",
       "</style>\n",
       "<table border=\"1\" class=\"dataframe\">\n",
       "  <thead>\n",
       "    <tr style=\"text-align: right;\">\n",
       "      <th></th>\n",
       "      <th>ApplicantIncome</th>\n",
       "      <th>CoapplicantIncome</th>\n",
       "      <th>LoanAmount</th>\n",
       "      <th>Loan_Amount_Term</th>\n",
       "      <th>Credit_History</th>\n",
       "    </tr>\n",
       "  </thead>\n",
       "  <tbody>\n",
       "    <tr>\n",
       "      <th>count</th>\n",
       "      <td>614.000000</td>\n",
       "      <td>614.000000</td>\n",
       "      <td>592.000000</td>\n",
       "      <td>600.00000</td>\n",
       "      <td>564.000000</td>\n",
       "    </tr>\n",
       "    <tr>\n",
       "      <th>mean</th>\n",
       "      <td>5403.459283</td>\n",
       "      <td>1621.245798</td>\n",
       "      <td>146.412162</td>\n",
       "      <td>342.00000</td>\n",
       "      <td>0.842199</td>\n",
       "    </tr>\n",
       "    <tr>\n",
       "      <th>std</th>\n",
       "      <td>6109.041673</td>\n",
       "      <td>2926.248369</td>\n",
       "      <td>85.587325</td>\n",
       "      <td>65.12041</td>\n",
       "      <td>0.364878</td>\n",
       "    </tr>\n",
       "    <tr>\n",
       "      <th>min</th>\n",
       "      <td>150.000000</td>\n",
       "      <td>0.000000</td>\n",
       "      <td>9.000000</td>\n",
       "      <td>12.00000</td>\n",
       "      <td>0.000000</td>\n",
       "    </tr>\n",
       "    <tr>\n",
       "      <th>25%</th>\n",
       "      <td>2877.500000</td>\n",
       "      <td>0.000000</td>\n",
       "      <td>100.000000</td>\n",
       "      <td>360.00000</td>\n",
       "      <td>1.000000</td>\n",
       "    </tr>\n",
       "    <tr>\n",
       "      <th>50%</th>\n",
       "      <td>3812.500000</td>\n",
       "      <td>1188.500000</td>\n",
       "      <td>128.000000</td>\n",
       "      <td>360.00000</td>\n",
       "      <td>1.000000</td>\n",
       "    </tr>\n",
       "    <tr>\n",
       "      <th>75%</th>\n",
       "      <td>5795.000000</td>\n",
       "      <td>2297.250000</td>\n",
       "      <td>168.000000</td>\n",
       "      <td>360.00000</td>\n",
       "      <td>1.000000</td>\n",
       "    </tr>\n",
       "    <tr>\n",
       "      <th>max</th>\n",
       "      <td>81000.000000</td>\n",
       "      <td>41667.000000</td>\n",
       "      <td>700.000000</td>\n",
       "      <td>480.00000</td>\n",
       "      <td>1.000000</td>\n",
       "    </tr>\n",
       "  </tbody>\n",
       "</table>\n",
       "</div>"
      ],
      "text/plain": [
       "       ApplicantIncome  CoapplicantIncome  LoanAmount  Loan_Amount_Term  \\\n",
       "count       614.000000         614.000000  592.000000         600.00000   \n",
       "mean       5403.459283        1621.245798  146.412162         342.00000   \n",
       "std        6109.041673        2926.248369   85.587325          65.12041   \n",
       "min         150.000000           0.000000    9.000000          12.00000   \n",
       "25%        2877.500000           0.000000  100.000000         360.00000   \n",
       "50%        3812.500000        1188.500000  128.000000         360.00000   \n",
       "75%        5795.000000        2297.250000  168.000000         360.00000   \n",
       "max       81000.000000       41667.000000  700.000000         480.00000   \n",
       "\n",
       "       Credit_History  \n",
       "count      564.000000  \n",
       "mean         0.842199  \n",
       "std          0.364878  \n",
       "min          0.000000  \n",
       "25%          1.000000  \n",
       "50%          1.000000  \n",
       "75%          1.000000  \n",
       "max          1.000000  "
      ]
     },
     "execution_count": 4,
     "metadata": {},
     "output_type": "execute_result"
    }
   ],
   "source": [
    "data.describe()"
   ]
  },
  {
   "cell_type": "code",
   "execution_count": 5,
   "id": "076b0b3d",
   "metadata": {
    "execution": {
     "iopub.execute_input": "2023-06-18T12:38:00.956079Z",
     "iopub.status.busy": "2023-06-18T12:38:00.955706Z",
     "iopub.status.idle": "2023-06-18T12:38:00.965543Z",
     "shell.execute_reply": "2023-06-18T12:38:00.964538Z"
    },
    "id": "r1SXdLXqzk1F",
    "outputId": "0108ff1e-7907-43c7-cfc8-d365226333b7",
    "papermill": {
     "duration": 0.024157,
     "end_time": "2023-06-18T12:38:00.967578",
     "exception": false,
     "start_time": "2023-06-18T12:38:00.943421",
     "status": "completed"
    },
    "tags": []
   },
   "outputs": [
    {
     "data": {
      "text/plain": [
       "Loan_ID               0\n",
       "Gender               13\n",
       "Married               3\n",
       "Dependents           15\n",
       "Education             0\n",
       "Self_Employed        32\n",
       "ApplicantIncome       0\n",
       "CoapplicantIncome     0\n",
       "LoanAmount           22\n",
       "Loan_Amount_Term     14\n",
       "Credit_History       50\n",
       "Property_Area         0\n",
       "Loan_Status           0\n",
       "dtype: int64"
      ]
     },
     "execution_count": 5,
     "metadata": {},
     "output_type": "execute_result"
    }
   ],
   "source": [
    "data.isnull().sum()"
   ]
  },
  {
   "cell_type": "markdown",
   "id": "b1e1896b",
   "metadata": {
    "id": "Hrj89FDGfBCG",
    "papermill": {
     "duration": 0.010312,
     "end_time": "2023-06-18T12:38:00.988363",
     "exception": false,
     "start_time": "2023-06-18T12:38:00.978051",
     "status": "completed"
    },
    "tags": []
   },
   "source": [
    "We need to fill the missing values for better"
   ]
  },
  {
   "cell_type": "code",
   "execution_count": 6,
   "id": "a90e4dd6",
   "metadata": {
    "execution": {
     "iopub.execute_input": "2023-06-18T12:38:01.011459Z",
     "iopub.status.busy": "2023-06-18T12:38:01.010390Z",
     "iopub.status.idle": "2023-06-18T12:38:01.025353Z",
     "shell.execute_reply": "2023-06-18T12:38:01.024298Z"
    },
    "id": "akhVQEDCqBzi",
    "papermill": {
     "duration": 0.02897,
     "end_time": "2023-06-18T12:38:01.027788",
     "exception": false,
     "start_time": "2023-06-18T12:38:00.998818",
     "status": "completed"
    },
    "tags": []
   },
   "outputs": [],
   "source": [
    "#Taking the most frequent data to fill the empty Credit History, Gender\n",
    "data.Credit_History= data.Credit_History.fillna(data.Credit_History.mode()[0])\n",
    "data.Gender= data.Gender.fillna(data.Gender.mode()[0])\n",
    "data.Dependents= data.Dependents.fillna(data.Dependents.mode()[0])\n",
    "data.Self_Employed= data.Self_Employed.fillna(data.Self_Employed.mode()[0])\n",
    "data.Married= data.Married.fillna(data.Married.mode()[0])\n",
    "\n",
    "#Taking the mean data to fill the empty Loan Amount and Loan Amount Term\n",
    "data.LoanAmount= data.LoanAmount.fillna(data.LoanAmount.mean())\n",
    "data.Loan_Amount_Term= data.Loan_Amount_Term.fillna(data.Loan_Amount_Term.mean())\n"
   ]
  },
  {
   "cell_type": "code",
   "execution_count": 7,
   "id": "0843dacf",
   "metadata": {
    "execution": {
     "iopub.execute_input": "2023-06-18T12:38:01.051232Z",
     "iopub.status.busy": "2023-06-18T12:38:01.050832Z",
     "iopub.status.idle": "2023-06-18T12:38:01.061932Z",
     "shell.execute_reply": "2023-06-18T12:38:01.061003Z"
    },
    "id": "PI0Rb_wVwDQX",
    "outputId": "14a09416-518d-4eae-b6ad-0b42139d37c8",
    "papermill": {
     "duration": 0.025403,
     "end_time": "2023-06-18T12:38:01.063936",
     "exception": false,
     "start_time": "2023-06-18T12:38:01.038533",
     "status": "completed"
    },
    "tags": []
   },
   "outputs": [
    {
     "data": {
      "text/plain": [
       "Loan_ID              0\n",
       "Gender               0\n",
       "Married              0\n",
       "Dependents           0\n",
       "Education            0\n",
       "Self_Employed        0\n",
       "ApplicantIncome      0\n",
       "CoapplicantIncome    0\n",
       "LoanAmount           0\n",
       "Loan_Amount_Term     0\n",
       "Credit_History       0\n",
       "Property_Area        0\n",
       "Loan_Status          0\n",
       "dtype: int64"
      ]
     },
     "execution_count": 7,
     "metadata": {},
     "output_type": "execute_result"
    }
   ],
   "source": [
    "data.isnull().sum()"
   ]
  },
  {
   "cell_type": "code",
   "execution_count": 8,
   "id": "a477bf5e",
   "metadata": {
    "execution": {
     "iopub.execute_input": "2023-06-18T12:38:01.086735Z",
     "iopub.status.busy": "2023-06-18T12:38:01.086133Z",
     "iopub.status.idle": "2023-06-18T12:38:01.447674Z",
     "shell.execute_reply": "2023-06-18T12:38:01.446800Z"
    },
    "id": "OSK6Dtvp_KKJ",
    "outputId": "ba6f0405-b7c7-4e96-e545-a817933d891d",
    "papermill": {
     "duration": 0.375106,
     "end_time": "2023-06-18T12:38:01.449712",
     "exception": false,
     "start_time": "2023-06-18T12:38:01.074606",
     "status": "completed"
    },
    "tags": []
   },
   "outputs": [
    {
     "data": {
      "text/plain": [
       "<Axes: >"
      ]
     },
     "execution_count": 8,
     "metadata": {},
     "output_type": "execute_result"
    },
    {
     "data": {
      "image/png": "[encoded data removed]",
      "text/plain": [
       "<Figure size 640x480 with 2 Axes>"
      ]
     },
     "metadata": {},
     "output_type": "display_data"
    }
   ],
   "source": [
    "sns.heatmap(data.isnull(),  yticklabels=False, cmap=\"viridis\")"
   ]
  },
  {
   "cell_type": "code",
   "execution_count": 9,
   "id": "529abdc7",
   "metadata": {
    "execution": {
     "iopub.execute_input": "2023-06-18T12:38:01.474420Z",
     "iopub.status.busy": "2023-06-18T12:38:01.474055Z",
     "iopub.status.idle": "2023-06-18T12:38:01.806089Z",
     "shell.execute_reply": "2023-06-18T12:38:01.804979Z"
    },
    "id": "iiWkOhPY6Wgs",
    "outputId": "eff45bea-a140-402c-d420-9e0b20c6e22e",
    "papermill": {
     "duration": 0.349175,
     "end_time": "2023-06-18T12:38:01.810284",
     "exception": false,
     "start_time": "2023-06-18T12:38:01.461109",
     "status": "completed"
    },
    "tags": []
   },
   "outputs": [
    {
     "name": "stdout",
     "output_type": "stream",
     "text": [
      "Loan_Status       N    Y  All\n",
      "Credit_History               \n",
      "0.0              82    7   89\n",
      "1.0             110  415  525\n",
      "All             192  422  614\n"
     ]
    },
    {
     "data": {
      "image/png": "[encoded data removed]",
      "text/plain": [
       "<Figure size 640x480 with 1 Axes>"
      ]
     },
     "metadata": {},
     "output_type": "display_data"
    }
   ],
   "source": [
    "cross_tab=pd.crosstab(data['Credit_History'],data['Loan_Status'],margins=True)\n",
    "print(cross_tab)\n",
    "cross_tab.plot(kind='bar', stacked=True)\n",
    "plt.xlabel('Credit History')\n",
    "plt.ylabel('Count')\n",
    "plt.title('Loan Status by Credit History')\n",
    "plt.legend(title='Loan Status')\n",
    "plt.show()"
   ]
  },
  {
   "cell_type": "markdown",
   "id": "0595223c",
   "metadata": {
    "id": "Cc8SUzyloe5y",
    "papermill": {
     "duration": 0.013031,
     "end_time": "2023-06-18T12:38:01.840370",
     "exception": false,
     "start_time": "2023-06-18T12:38:01.827339",
     "status": "completed"
    },
    "tags": []
   },
   "source": [
    "The above bar plot describes the relation between Credit History and the Loan Status. We can see that most people with credit history got the loan."
   ]
  },
  {
   "cell_type": "code",
   "execution_count": 10,
   "id": "2367b7fe",
   "metadata": {
    "execution": {
     "iopub.execute_input": "2023-06-18T12:38:01.875214Z",
     "iopub.status.busy": "2023-06-18T12:38:01.873930Z",
     "iopub.status.idle": "2023-06-18T12:38:02.026916Z",
     "shell.execute_reply": "2023-06-18T12:38:02.025622Z"
    },
    "id": "v7pjCBCF94uG",
    "outputId": "c8771484-b9b8-42e0-bba8-c092249dff80",
    "papermill": {
     "duration": 0.172734,
     "end_time": "2023-06-18T12:38:02.030142",
     "exception": false,
     "start_time": "2023-06-18T12:38:01.857408",
     "status": "completed"
    },
    "tags": []
   },
   "outputs": [
    {
     "data": {
      "image/png": "[encoded data removed]",
      "text/plain": [
       "<Figure size 640x480 with 1 Axes>"
      ]
     },
     "metadata": {},
     "output_type": "display_data"
    }
   ],
   "source": [
    "value_counts = data['Property_Area'].value_counts()\n",
    "\n",
    "# Create a pie chart\n",
    "plt.pie(value_counts, labels=value_counts.index, autopct='%1.1f%%')\n",
    "plt.title('Loan Applicants by area')\n",
    "plt.show()"
   ]
  },
  {
   "cell_type": "markdown",
   "id": "11964cfd",
   "metadata": {
    "id": "MbzXbQQoo4Ah",
    "papermill": {
     "duration": 0.018537,
     "end_time": "2023-06-18T12:38:02.069390",
     "exception": false,
     "start_time": "2023-06-18T12:38:02.050853",
     "status": "completed"
    },
    "tags": []
   },
   "source": [
    "The above graph depects loan applications by area. We can see that most of the poeple who applied for loan are from Semiurban area"
   ]
  },
  {
   "cell_type": "code",
   "execution_count": 11,
   "id": "c19afb97",
   "metadata": {
    "execution": {
     "iopub.execute_input": "2023-06-18T12:38:02.102213Z",
     "iopub.status.busy": "2023-06-18T12:38:02.101855Z",
     "iopub.status.idle": "2023-06-18T12:38:02.398103Z",
     "shell.execute_reply": "2023-06-18T12:38:02.397068Z"
    },
    "id": "GAmS3jGt0EDw",
    "outputId": "382edb5c-ab64-4c21-af84-d60c40691df4",
    "papermill": {
     "duration": 0.311943,
     "end_time": "2023-06-18T12:38:02.400464",
     "exception": false,
     "start_time": "2023-06-18T12:38:02.088521",
     "status": "completed"
    },
    "tags": []
   },
   "outputs": [
    {
     "data": {
      "text/plain": [
       "<Axes: title={'center': 'ApplicantIncome'}, xlabel='Education'>"
      ]
     },
     "execution_count": 11,
     "metadata": {},
     "output_type": "execute_result"
    },
    {
     "data": {
      "image/png": "[encoded data removed]",
      "text/plain": [
       "<Figure size 640x480 with 1 Axes>"
      ]
     },
     "metadata": {},
     "output_type": "display_data"
    }
   ],
   "source": [
    "data.boxplot(column='ApplicantIncome',by='Education')"
   ]
  },
  {
   "cell_type": "markdown",
   "id": "44e14703",
   "metadata": {
    "id": "tSNOgC7NpRIL",
    "papermill": {
     "duration": 0.013546,
     "end_time": "2023-06-18T12:38:02.426905",
     "exception": false,
     "start_time": "2023-06-18T12:38:02.413359",
     "status": "completed"
    },
    "tags": []
   },
   "source": [
    "This boxplot groups the data on the basis of educational background and the applicant their income. We can see that majority of the applicant are Graduates and their Income lies between 10000 to 22000"
   ]
  },
  {
   "cell_type": "code",
   "execution_count": 12,
   "id": "59487027",
   "metadata": {
    "execution": {
     "iopub.execute_input": "2023-06-18T12:38:02.454239Z",
     "iopub.status.busy": "2023-06-18T12:38:02.453837Z",
     "iopub.status.idle": "2023-06-18T12:38:02.787231Z",
     "shell.execute_reply": "2023-06-18T12:38:02.786172Z"
    },
    "id": "uiwybQCoDBVR",
    "outputId": "01c05d49-9077-4525-b6bd-db6538c3c13f",
    "papermill": {
     "duration": 0.34977,
     "end_time": "2023-06-18T12:38:02.789341",
     "exception": false,
     "start_time": "2023-06-18T12:38:02.439571",
     "status": "completed"
    },
    "tags": []
   },
   "outputs": [
    {
     "data": {
      "text/plain": [
       "<Axes: xlabel='LoanAmount', ylabel='Count'>"
      ]
     },
     "execution_count": 12,
     "metadata": {},
     "output_type": "execute_result"
    },
    {
     "data": {
      "image/png": "[encoded data removed]",
      "text/plain": [
       "<Figure size 640x480 with 1 Axes>"
      ]
     },
     "metadata": {},
     "output_type": "display_data"
    }
   ],
   "source": [
    "sns.histplot(data['LoanAmount'], bins=50)"
   ]
  },
  {
   "cell_type": "markdown",
   "id": "9c077fd6",
   "metadata": {
    "id": "8NVtg804DrZH",
    "papermill": {
     "duration": 0.01293,
     "end_time": "2023-06-18T12:38:02.815415",
     "exception": false,
     "start_time": "2023-06-18T12:38:02.802485",
     "status": "completed"
    },
    "tags": []
   },
   "source": [
    "This graph shows the range of loan amount that the applicants have applied."
   ]
  },
  {
   "cell_type": "code",
   "execution_count": 13,
   "id": "700ed500",
   "metadata": {
    "execution": {
     "iopub.execute_input": "2023-06-18T12:38:02.844686Z",
     "iopub.status.busy": "2023-06-18T12:38:02.844083Z",
     "iopub.status.idle": "2023-06-18T12:38:02.849760Z",
     "shell.execute_reply": "2023-06-18T12:38:02.849009Z"
    },
    "papermill": {
     "duration": 0.022671,
     "end_time": "2023-06-18T12:38:02.851709",
     "exception": false,
     "start_time": "2023-06-18T12:38:02.829038",
     "status": "completed"
    },
    "tags": []
   },
   "outputs": [],
   "source": [
    "data['TotalIncome']=data['ApplicantIncome']+data['CoapplicantIncome']"
   ]
  },
  {
   "cell_type": "code",
   "execution_count": 14,
   "id": "aad5f0e2",
   "metadata": {
    "execution": {
     "iopub.execute_input": "2023-06-18T12:38:02.879506Z",
     "iopub.status.busy": "2023-06-18T12:38:02.878934Z",
     "iopub.status.idle": "2023-06-18T12:38:02.888656Z",
     "shell.execute_reply": "2023-06-18T12:38:02.887615Z"
    },
    "id": "7f29HDybzxH5",
    "outputId": "be43bd97-d304-4917-e292-041e8a39d45a",
    "papermill": {
     "duration": 0.025802,
     "end_time": "2023-06-18T12:38:02.890536",
     "exception": false,
     "start_time": "2023-06-18T12:38:02.864734",
     "status": "completed"
    },
    "tags": []
   },
   "outputs": [
    {
     "data": {
      "text/plain": [
       "((491, 7), (491,))"
      ]
     },
     "execution_count": 14,
     "metadata": {},
     "output_type": "execute_result"
    }
   ],
   "source": [
    "X=data.iloc[:,np.r_[1:5,9:11,13:14]].values\n",
    "y=data.iloc[:,12].values\n",
    "X_train, X_test, y_train, y_test = train_test_split(X, y, test_size=0.20, random_state=0)\n",
    "X_train.shape, y_train.shape\n"
   ]
  },
  {
   "cell_type": "code",
   "execution_count": 15,
   "id": "57c07d09",
   "metadata": {
    "execution": {
     "iopub.execute_input": "2023-06-18T12:38:02.919340Z",
     "iopub.status.busy": "2023-06-18T12:38:02.918776Z",
     "iopub.status.idle": "2023-06-18T12:38:02.929222Z",
     "shell.execute_reply": "2023-06-18T12:38:02.928042Z"
    },
    "id": "5fZoS0az2sIo",
    "papermill": {
     "duration": 0.028149,
     "end_time": "2023-06-18T12:38:02.931878",
     "exception": false,
     "start_time": "2023-06-18T12:38:02.903729",
     "status": "completed"
    },
    "tags": []
   },
   "outputs": [],
   "source": [
    "from sklearn.preprocessing import LabelEncoder\n",
    "labelencoder_X = LabelEncoder()\n",
    "for i in range(0,4):\n",
    "  X_train[:,i]=labelencoder_X.fit_transform(X_train[:,i])\n",
    "X_train[:,6]=labelencoder_X.fit_transform(X_train[:,6])"
   ]
  },
  {
   "cell_type": "code",
   "execution_count": 16,
   "id": "061bad4e",
   "metadata": {
    "execution": {
     "iopub.execute_input": "2023-06-18T12:38:02.961110Z",
     "iopub.status.busy": "2023-06-18T12:38:02.960099Z",
     "iopub.status.idle": "2023-06-18T12:38:02.966178Z",
     "shell.execute_reply": "2023-06-18T12:38:02.965444Z"
    },
    "id": "CzggCLvN4AcJ",
    "papermill": {
     "duration": 0.02262,
     "end_time": "2023-06-18T12:38:02.968051",
     "exception": false,
     "start_time": "2023-06-18T12:38:02.945431",
     "status": "completed"
    },
    "tags": []
   },
   "outputs": [],
   "source": [
    "for i in range(0,5):\n",
    "  X_test[:,i]=labelencoder_X.fit_transform(X_test[:,i])\n",
    "X_test[:,6]=labelencoder_X.fit_transform(X_test[:,6])"
   ]
  },
  {
   "cell_type": "code",
   "execution_count": 17,
   "id": "e7af33ab",
   "metadata": {
    "execution": {
     "iopub.execute_input": "2023-06-18T12:38:02.996244Z",
     "iopub.status.busy": "2023-06-18T12:38:02.995681Z",
     "iopub.status.idle": "2023-06-18T12:38:03.001525Z",
     "shell.execute_reply": "2023-06-18T12:38:03.000876Z"
    },
    "id": "0mqLfNF34PfM",
    "papermill": {
     "duration": 0.022318,
     "end_time": "2023-06-18T12:38:03.003584",
     "exception": false,
     "start_time": "2023-06-18T12:38:02.981266",
     "status": "completed"
    },
    "tags": []
   },
   "outputs": [],
   "source": [
    "from sklearn.preprocessing import StandardScaler\n",
    "ss=StandardScaler()\n",
    "X_train=ss.fit_transform(X_train)\n",
    "X_test=ss.fit_transform(X_test)"
   ]
  },
  {
   "cell_type": "code",
   "execution_count": 18,
   "id": "d77eb803",
   "metadata": {
    "execution": {
     "iopub.execute_input": "2023-06-18T12:38:03.031728Z",
     "iopub.status.busy": "2023-06-18T12:38:03.031330Z",
     "iopub.status.idle": "2023-06-18T12:38:03.036383Z",
     "shell.execute_reply": "2023-06-18T12:38:03.035420Z"
    },
    "id": "IRzxSa_r1GDF",
    "papermill": {
     "duration": 0.021627,
     "end_time": "2023-06-18T12:38:03.038378",
     "exception": false,
     "start_time": "2023-06-18T12:38:03.016751",
     "status": "completed"
    },
    "tags": []
   },
   "outputs": [],
   "source": [
    "labelencoder_y=LabelEncoder()\n",
    "y_train=labelencoder_y.fit_transform(y_train)\n",
    "\n",
    "labelencoder_y=LabelEncoder()\n",
    "y_test=labelencoder_y.fit_transform(y_test)"
   ]
  },
  {
   "cell_type": "markdown",
   "id": "6f8aaa4c",
   "metadata": {
    "id": "2g7r2M8RrQ6T",
    "papermill": {
     "duration": 0.013134,
     "end_time": "2023-06-18T12:38:03.065045",
     "exception": false,
     "start_time": "2023-06-18T12:38:03.051911",
     "status": "completed"
    },
    "tags": []
   },
   "source": [
    "#Applying Logistic Regression to train the model"
   ]
  },
  {
   "cell_type": "code",
   "execution_count": 19,
   "id": "109cfe22",
   "metadata": {
    "execution": {
     "iopub.execute_input": "2023-06-18T12:38:03.093756Z",
     "iopub.status.busy": "2023-06-18T12:38:03.092497Z",
     "iopub.status.idle": "2023-06-18T12:38:03.112700Z",
     "shell.execute_reply": "2023-06-18T12:38:03.111704Z"
    },
    "id": "z0RMGrHa4dfE",
    "outputId": "1392078f-0d90-4b69-eb29-ab30b3726979",
    "papermill": {
     "duration": 0.036752,
     "end_time": "2023-06-18T12:38:03.114904",
     "exception": false,
     "start_time": "2023-06-18T12:38:03.078152",
     "status": "completed"
    },
    "tags": []
   },
   "outputs": [
    {
     "data": {
      "text/html": [
       "<style>#sk-container-id-1 {color: black;background-color: white;}#sk-container-id-1 pre{padding: 0;}#sk-container-id-1 div.sk-toggleable {background-color: white;}#sk-container-id-1 label.sk-toggleable__label {cursor: pointer;display: block;width: 100%;margin-bottom: 0;padding: 0.3em;box-sizing: border-box;text-align: center;}#sk-container-id-1 label.sk-toggleable__label-arrow:before {content: \"▸\";float: left;margin-right: 0.25em;color: #696969;}#sk-container-id-1 label.sk-toggleable__label-arrow:hover:before {color: black;}#sk-container-id-1 div.sk-estimator:hover label.sk-toggleable__label-arrow:before {color: black;}#sk-container-id-1 div.sk-toggleable__content {max-height: 0;max-width: 0;overflow: hidden;text-align: left;background-color: #f0f8ff;}#sk-container-id-1 div.sk-toggleable__content pre {margin: 0.2em;color: black;border-radius: 0.25em;background-color: #f0f8ff;}#sk-container-id-1 input.sk-toggleable__control:checked~div.sk-toggleable__content {max-height: 200px;max-width: 100%;overflow: auto;}#sk-container-id-1 input.sk-toggleable__control:checked~label.sk-toggleable__label-arrow:before {content: \"▾\";}#sk-container-id-1 div.sk-estimator input.sk-toggleable__control:checked~label.sk-toggleable__label {background-color: #d4ebff;}#sk-container-id-1 div.sk-label input.sk-toggleable__control:checked~label.sk-toggleable__label {background-color: #d4ebff;}#sk-container-id-1 input.sk-hidden--visually {border: 0;clip: rect(1px 1px 1px 1px);clip: rect(1px, 1px, 1px, 1px);height: 1px;margin: -1px;overflow: hidden;padding: 0;position: absolute;width: 1px;}#sk-container-id-1 div.sk-estimator {font-family: monospace;background-color: #f0f8ff;border: 1px dotted black;border-radius: 0.25em;box-sizing: border-box;margin-bottom: 0.5em;}#sk-container-id-1 div.sk-estimator:hover {background-color: #d4ebff;}#sk-container-id-1 div.sk-parallel-item::after {content: \"\";width: 100%;border-bottom: 1px solid gray;flex-grow: 1;}#sk-container-id-1 div.sk-label:hover label.sk-toggleable__label {background-color: #d4ebff;}#sk-container-id-1 div.sk-serial::before {content: \"\";position: absolute;border-left: 1px solid gray;box-sizing: border-box;top: 0;bottom: 0;left: 50%;z-index: 0;}#sk-container-id-1 div.sk-serial {display: flex;flex-direction: column;align-items: center;background-color: white;padding-right: 0.2em;padding-left: 0.2em;position: relative;}#sk-container-id-1 div.sk-item {position: relative;z-index: 1;}#sk-container-id-1 div.sk-parallel {display: flex;align-items: stretch;justify-content: center;background-color: white;position: relative;}#sk-container-id-1 div.sk-item::before, #sk-container-id-1 div.sk-parallel-item::before {content: \"\";position: absolute;border-left: 1px solid gray;box-sizing: border-box;top: 0;bottom: 0;left: 50%;z-index: -1;}#sk-container-id-1 div.sk-parallel-item {display: flex;flex-direction: column;z-index: 1;position: relative;background-color: white;}#sk-container-id-1 div.sk-parallel-item:first-child::after {align-self: flex-end;width: 50%;}#sk-container-id-1 div.sk-parallel-item:last-child::after {align-self: flex-start;width: 50%;}#sk-container-id-1 div.sk-parallel-item:only-child::after {width: 0;}#sk-container-id-1 div.sk-dashed-wrapped {border: 1px dashed gray;margin: 0 0.4em 0.5em 0.4em;box-sizing: border-box;padding-bottom: 0.4em;background-color: white;}#sk-container-id-1 div.sk-label label {font-family: monospace;font-weight: bold;display: inline-block;line-height: 1.2em;}#sk-container-id-1 div.sk-label-container {text-align: center;}#sk-container-id-1 div.sk-container {/* jupyter's `normalize.less` sets `[hidden] { display: none; }` but bootstrap.min.css set `[hidden] { display: none !important; }` so we also need the `!important` here to be able to override the default hidden behavior on the sphinx rendered scikit-learn.org. See: https://github.com/scikit-learn/scikit-learn/issues/21755 */display: inline-block !important;position: relative;}#sk-container-id-1 div.sk-text-repr-fallback {display: none;}</style><div id=\"sk-container-id-1\" class=\"sk-top-container\"><div class=\"sk-text-repr-fallback\"><pre>LogisticRegression(random_state=0)</pre><b>In a Jupyter environment, please rerun this cell to show the HTML representation or trust the notebook. <br />On GitHub, the HTML representation is unable to render, please try loading this page with nbviewer.org.</b></div><div class=\"sk-container\" hidden><div class=\"sk-item\"><div class=\"sk-estimator sk-toggleable\"><input class=\"sk-toggleable__control sk-hidden--visually\" id=\"sk-estimator-id-1\" type=\"checkbox\" checked><label for=\"sk-estimator-id-1\" class=\"sk-toggleable__label sk-toggleable__label-arrow\">LogisticRegression</label><div class=\"sk-toggleable__content\"><pre>LogisticRegression(random_state=0)</pre></div></div></div></div></div>"
      ],
      "text/plain": [
       "LogisticRegression(random_state=0)"
      ]
     },
     "execution_count": 19,
     "metadata": {},
     "output_type": "execute_result"
    }
   ],
   "source": [
    "lgrclassifier= LogisticRegression(random_state=0)\n",
    "lgrclassifier.fit(X_train, y_train)"
   ]
  },
  {
   "cell_type": "code",
   "execution_count": 20,
   "id": "b8ec3eeb",
   "metadata": {
    "execution": {
     "iopub.execute_input": "2023-06-18T12:38:03.144464Z",
     "iopub.status.busy": "2023-06-18T12:38:03.143769Z",
     "iopub.status.idle": "2023-06-18T12:38:03.157333Z",
     "shell.execute_reply": "2023-06-18T12:38:03.156317Z"
    },
    "id": "AvkxH27K0uS-",
    "outputId": "e7585e77-e14c-4042-c6db-aaa81f60e99a",
    "papermill": {
     "duration": 0.030614,
     "end_time": "2023-06-18T12:38:03.159309",
     "exception": false,
     "start_time": "2023-06-18T12:38:03.128695",
     "status": "completed"
    },
    "tags": []
   },
   "outputs": [
    {
     "data": {
      "text/plain": [
       "'              precision    recall  f1-score   support\\n\\n           0       0.88      0.42      0.57        33\\n           1       0.82      0.98      0.89        90\\n\\n    accuracy                           0.83       123\\n   macro avg       0.85      0.70      0.73       123\\nweighted avg       0.84      0.83      0.81       123\\n'"
      ]
     },
     "execution_count": 20,
     "metadata": {},
     "output_type": "execute_result"
    }
   ],
   "source": [
    "model1 = lgrclassifier.predict(X_test)\n",
    "classification_report(y_test, model1)"
   ]
  },
  {
   "cell_type": "code",
   "execution_count": 21,
   "id": "62036179",
   "metadata": {
    "execution": {
     "iopub.execute_input": "2023-06-18T12:38:03.188837Z",
     "iopub.status.busy": "2023-06-18T12:38:03.188471Z",
     "iopub.status.idle": "2023-06-18T12:38:03.194947Z",
     "shell.execute_reply": "2023-06-18T12:38:03.193956Z"
    },
    "id": "z7VNfnuU4i8k",
    "outputId": "0d14e046-6162-492d-f9bd-e491efcaae1a",
    "papermill": {
     "duration": 0.023962,
     "end_time": "2023-06-18T12:38:03.197247",
     "exception": false,
     "start_time": "2023-06-18T12:38:03.173285",
     "status": "completed"
    },
    "tags": []
   },
   "outputs": [
    {
     "data": {
      "text/plain": [
       "array([[1400, 1900],\n",
       "       [ 200, 8800]])"
      ]
     },
     "execution_count": 21,
     "metadata": {},
     "output_type": "execute_result"
    }
   ],
   "source": [
    "#Creating confusion matrix for classification\n",
    "confusion_matrix(y_test,model1)*100"
   ]
  },
  {
   "cell_type": "code",
   "execution_count": 22,
   "id": "1ef4f1cd",
   "metadata": {
    "execution": {
     "iopub.execute_input": "2023-06-18T12:38:03.227193Z",
     "iopub.status.busy": "2023-06-18T12:38:03.226158Z",
     "iopub.status.idle": "2023-06-18T12:38:03.233352Z",
     "shell.execute_reply": "2023-06-18T12:38:03.232605Z"
    },
    "id": "5P6uQCiE4rPF",
    "outputId": "0cf16a55-c79f-434e-91f6-77d7681106a3",
    "papermill": {
     "duration": 0.024039,
     "end_time": "2023-06-18T12:38:03.235184",
     "exception": false,
     "start_time": "2023-06-18T12:38:03.211145",
     "status": "completed"
    },
    "tags": []
   },
   "outputs": [
    {
     "data": {
      "text/plain": [
       "82.92682926829268"
      ]
     },
     "execution_count": 22,
     "metadata": {},
     "output_type": "execute_result"
    }
   ],
   "source": [
    "#Checking accuracy of the model\n",
    "lr=accuracy_score(y_test, model1)*100\n",
    "lr"
   ]
  },
  {
   "cell_type": "markdown",
   "id": "63bc337c",
   "metadata": {
    "id": "R_Ui9ZY7rb-2",
    "papermill": {
     "duration": 0.013632,
     "end_time": "2023-06-18T12:38:03.264471",
     "exception": false,
     "start_time": "2023-06-18T12:38:03.250839",
     "status": "completed"
    },
    "tags": []
   },
   "source": [
    "#Applying Decision Tree Classifier to train the model"
   ]
  },
  {
   "cell_type": "code",
   "execution_count": 23,
   "id": "097f81af",
   "metadata": {
    "execution": {
     "iopub.execute_input": "2023-06-18T12:38:03.294528Z",
     "iopub.status.busy": "2023-06-18T12:38:03.293830Z",
     "iopub.status.idle": "2023-06-18T12:38:03.446282Z",
     "shell.execute_reply": "2023-06-18T12:38:03.445310Z"
    },
    "id": "35pZuHAx4wQI",
    "outputId": "17865469-7293-4810-d284-547e255183dd",
    "papermill": {
     "duration": 0.169825,
     "end_time": "2023-06-18T12:38:03.448473",
     "exception": false,
     "start_time": "2023-06-18T12:38:03.278648",
     "status": "completed"
    },
    "tags": []
   },
   "outputs": [
    {
     "data": {
      "text/html": [
       "<style>#sk-container-id-2 {color: black;background-color: white;}#sk-container-id-2 pre{padding: 0;}#sk-container-id-2 div.sk-toggleable {background-color: white;}#sk-container-id-2 label.sk-toggleable__label {cursor: pointer;display: block;width: 100%;margin-bottom: 0;padding: 0.3em;box-sizing: border-box;text-align: center;}#sk-container-id-2 label.sk-toggleable__label-arrow:before {content: \"▸\";float: left;margin-right: 0.25em;color: #696969;}#sk-container-id-2 label.sk-toggleable__label-arrow:hover:before {color: black;}#sk-container-id-2 div.sk-estimator:hover label.sk-toggleable__label-arrow:before {color: black;}#sk-container-id-2 div.sk-toggleable__content {max-height: 0;max-width: 0;overflow: hidden;text-align: left;background-color: #f0f8ff;}#sk-container-id-2 div.sk-toggleable__content pre {margin: 0.2em;color: black;border-radius: 0.25em;background-color: #f0f8ff;}#sk-container-id-2 input.sk-toggleable__control:checked~div.sk-toggleable__content {max-height: 200px;max-width: 100%;overflow: auto;}#sk-container-id-2 input.sk-toggleable__control:checked~label.sk-toggleable__label-arrow:before {content: \"▾\";}#sk-container-id-2 div.sk-estimator input.sk-toggleable__control:checked~label.sk-toggleable__label {background-color: #d4ebff;}#sk-container-id-2 div.sk-label input.sk-toggleable__control:checked~label.sk-toggleable__label {background-color: #d4ebff;}#sk-container-id-2 input.sk-hidden--visually {border: 0;clip: rect(1px 1px 1px 1px);clip: rect(1px, 1px, 1px, 1px);height: 1px;margin: -1px;overflow: hidden;padding: 0;position: absolute;width: 1px;}#sk-container-id-2 div.sk-estimator {font-family: monospace;background-color: #f0f8ff;border: 1px dotted black;border-radius: 0.25em;box-sizing: border-box;margin-bottom: 0.5em;}#sk-container-id-2 div.sk-estimator:hover {background-color: #d4ebff;}#sk-container-id-2 div.sk-parallel-item::after {content: \"\";width: 100%;border-bottom: 1px solid gray;flex-grow: 1;}#sk-container-id-2 div.sk-label:hover label.sk-toggleable__label {background-color: #d4ebff;}#sk-container-id-2 div.sk-serial::before {content: \"\";position: absolute;border-left: 1px solid gray;box-sizing: border-box;top: 0;bottom: 0;left: 50%;z-index: 0;}#sk-container-id-2 div.sk-serial {display: flex;flex-direction: column;align-items: center;background-color: white;padding-right: 0.2em;padding-left: 0.2em;position: relative;}#sk-container-id-2 div.sk-item {position: relative;z-index: 1;}#sk-container-id-2 div.sk-parallel {display: flex;align-items: stretch;justify-content: center;background-color: white;position: relative;}#sk-container-id-2 div.sk-item::before, #sk-container-id-2 div.sk-parallel-item::before {content: \"\";position: absolute;border-left: 1px solid gray;box-sizing: border-box;top: 0;bottom: 0;left: 50%;z-index: -1;}#sk-container-id-2 div.sk-parallel-item {display: flex;flex-direction: column;z-index: 1;position: relative;background-color: white;}#sk-container-id-2 div.sk-parallel-item:first-child::after {align-self: flex-end;width: 50%;}#sk-container-id-2 div.sk-parallel-item:last-child::after {align-self: flex-start;width: 50%;}#sk-container-id-2 div.sk-parallel-item:only-child::after {width: 0;}#sk-container-id-2 div.sk-dashed-wrapped {border: 1px dashed gray;margin: 0 0.4em 0.5em 0.4em;box-sizing: border-box;padding-bottom: 0.4em;background-color: white;}#sk-container-id-2 div.sk-label label {font-family: monospace;font-weight: bold;display: inline-block;line-height: 1.2em;}#sk-container-id-2 div.sk-label-container {text-align: center;}#sk-container-id-2 div.sk-container {/* jupyter's `normalize.less` sets `[hidden] { display: none; }` but bootstrap.min.css set `[hidden] { display: none !important; }` so we also need the `!important` here to be able to override the default hidden behavior on the sphinx rendered scikit-learn.org. See: https://github.com/scikit-learn/scikit-learn/issues/21755 */display: inline-block !important;position: relative;}#sk-container-id-2 div.sk-text-repr-fallback {display: none;}</style><div id=\"sk-container-id-2\" class=\"sk-top-container\"><div class=\"sk-text-repr-fallback\"><pre>DecisionTreeClassifier(random_state=0)</pre><b>In a Jupyter environment, please rerun this cell to show the HTML representation or trust the notebook. <br />On GitHub, the HTML representation is unable to render, please try loading this page with nbviewer.org.</b></div><div class=\"sk-container\" hidden><div class=\"sk-item\"><div class=\"sk-estimator sk-toggleable\"><input class=\"sk-toggleable__control sk-hidden--visually\" id=\"sk-estimator-id-2\" type=\"checkbox\" checked><label for=\"sk-estimator-id-2\" class=\"sk-toggleable__label sk-toggleable__label-arrow\">DecisionTreeClassifier</label><div class=\"sk-toggleable__content\"><pre>DecisionTreeClassifier(random_state=0)</pre></div></div></div></div></div>"
      ],
      "text/plain": [
       "DecisionTreeClassifier(random_state=0)"
      ]
     },
     "execution_count": 23,
     "metadata": {},
     "output_type": "execute_result"
    }
   ],
   "source": [
    "from sklearn.tree import DecisionTreeClassifier\n",
    "DTClassifier=DecisionTreeClassifier(random_state=0)\n",
    "DTClassifier.fit(X_train,y_train)"
   ]
  },
  {
   "cell_type": "code",
   "execution_count": 24,
   "id": "39d2156e",
   "metadata": {
    "execution": {
     "iopub.execute_input": "2023-06-18T12:38:03.478767Z",
     "iopub.status.busy": "2023-06-18T12:38:03.477958Z",
     "iopub.status.idle": "2023-06-18T12:38:03.491077Z",
     "shell.execute_reply": "2023-06-18T12:38:03.490133Z"
    },
    "id": "H1lbizMW48Hy",
    "outputId": "60f00cad-e074-452c-ca0c-b42c1443ec6b",
    "papermill": {
     "duration": 0.030599,
     "end_time": "2023-06-18T12:38:03.493318",
     "exception": false,
     "start_time": "2023-06-18T12:38:03.462719",
     "status": "completed"
    },
    "tags": []
   },
   "outputs": [
    {
     "data": {
      "text/plain": [
       "'              precision    recall  f1-score   support\\n\\n           0       0.50      0.48      0.49        33\\n           1       0.81      0.82      0.82        90\\n\\n    accuracy                           0.73       123\\n   macro avg       0.66      0.65      0.65       123\\nweighted avg       0.73      0.73      0.73       123\\n'"
      ]
     },
     "execution_count": 24,
     "metadata": {},
     "output_type": "execute_result"
    }
   ],
   "source": [
    "model2 = DTClassifier.predict(X_test)\n",
    "classification_report(y_test, model2)"
   ]
  },
  {
   "cell_type": "code",
   "execution_count": 25,
   "id": "a1af5eb8",
   "metadata": {
    "execution": {
     "iopub.execute_input": "2023-06-18T12:38:03.524353Z",
     "iopub.status.busy": "2023-06-18T12:38:03.523357Z",
     "iopub.status.idle": "2023-06-18T12:38:03.530737Z",
     "shell.execute_reply": "2023-06-18T12:38:03.529738Z"
    },
    "id": "ZHiNo72V5DMN",
    "outputId": "498e351e-2267-4a51-e236-8351bb004340",
    "papermill": {
     "duration": 0.024952,
     "end_time": "2023-06-18T12:38:03.532698",
     "exception": false,
     "start_time": "2023-06-18T12:38:03.507746",
     "status": "completed"
    },
    "tags": []
   },
   "outputs": [
    {
     "data": {
      "text/plain": [
       "array([[1600, 1700],\n",
       "       [1600, 7400]])"
      ]
     },
     "execution_count": 25,
     "metadata": {},
     "output_type": "execute_result"
    }
   ],
   "source": [
    "confusion_matrix(y_test,model2)*100"
   ]
  },
  {
   "cell_type": "code",
   "execution_count": 26,
   "id": "4a144753",
   "metadata": {
    "execution": {
     "iopub.execute_input": "2023-06-18T12:38:03.563328Z",
     "iopub.status.busy": "2023-06-18T12:38:03.562996Z",
     "iopub.status.idle": "2023-06-18T12:38:03.569796Z",
     "shell.execute_reply": "2023-06-18T12:38:03.568858Z"
    },
    "id": "E2K_3zlO5LA0",
    "outputId": "f350dbf6-1d77-4f5d-e5c6-ab8a9783f8fe",
    "papermill": {
     "duration": 0.024466,
     "end_time": "2023-06-18T12:38:03.571789",
     "exception": false,
     "start_time": "2023-06-18T12:38:03.547323",
     "status": "completed"
    },
    "tags": []
   },
   "outputs": [
    {
     "data": {
      "text/plain": [
       "73.17073170731707"
      ]
     },
     "execution_count": 26,
     "metadata": {},
     "output_type": "execute_result"
    }
   ],
   "source": [
    "dtc=accuracy_score(y_test, model2)*100\n",
    "dtc"
   ]
  },
  {
   "cell_type": "markdown",
   "id": "c77f4fdc",
   "metadata": {
    "id": "twS9sPxpr9FS",
    "papermill": {
     "duration": 0.014425,
     "end_time": "2023-06-18T12:38:03.600823",
     "exception": false,
     "start_time": "2023-06-18T12:38:03.586398",
     "status": "completed"
    },
    "tags": []
   },
   "source": [
    "#Applying Support Vector Machine to train the model"
   ]
  },
  {
   "cell_type": "code",
   "execution_count": 27,
   "id": "caa4eb0b",
   "metadata": {
    "execution": {
     "iopub.execute_input": "2023-06-18T12:38:03.631895Z",
     "iopub.status.busy": "2023-06-18T12:38:03.631176Z",
     "iopub.status.idle": "2023-06-18T12:38:03.652381Z",
     "shell.execute_reply": "2023-06-18T12:38:03.651398Z"
    },
    "id": "UG4U1EjYPpso",
    "outputId": "31968d3b-5712-418d-e909-f5e313cf2c18",
    "papermill": {
     "duration": 0.039152,
     "end_time": "2023-06-18T12:38:03.654596",
     "exception": false,
     "start_time": "2023-06-18T12:38:03.615444",
     "status": "completed"
    },
    "tags": []
   },
   "outputs": [
    {
     "data": {
      "text/html": [
       "<style>#sk-container-id-3 {color: black;background-color: white;}#sk-container-id-3 pre{padding: 0;}#sk-container-id-3 div.sk-toggleable {background-color: white;}#sk-container-id-3 label.sk-toggleable__label {cursor: pointer;display: block;width: 100%;margin-bottom: 0;padding: 0.3em;box-sizing: border-box;text-align: center;}#sk-container-id-3 label.sk-toggleable__label-arrow:before {content: \"▸\";float: left;margin-right: 0.25em;color: #696969;}#sk-container-id-3 label.sk-toggleable__label-arrow:hover:before {color: black;}#sk-container-id-3 div.sk-estimator:hover label.sk-toggleable__label-arrow:before {color: black;}#sk-container-id-3 div.sk-toggleable__content {max-height: 0;max-width: 0;overflow: hidden;text-align: left;background-color: #f0f8ff;}#sk-container-id-3 div.sk-toggleable__content pre {margin: 0.2em;color: black;border-radius: 0.25em;background-color: #f0f8ff;}#sk-container-id-3 input.sk-toggleable__control:checked~div.sk-toggleable__content {max-height: 200px;max-width: 100%;overflow: auto;}#sk-container-id-3 input.sk-toggleable__control:checked~label.sk-toggleable__label-arrow:before {content: \"▾\";}#sk-container-id-3 div.sk-estimator input.sk-toggleable__control:checked~label.sk-toggleable__label {background-color: #d4ebff;}#sk-container-id-3 div.sk-label input.sk-toggleable__control:checked~label.sk-toggleable__label {background-color: #d4ebff;}#sk-container-id-3 input.sk-hidden--visually {border: 0;clip: rect(1px 1px 1px 1px);clip: rect(1px, 1px, 1px, 1px);height: 1px;margin: -1px;overflow: hidden;padding: 0;position: absolute;width: 1px;}#sk-container-id-3 div.sk-estimator {font-family: monospace;background-color: #f0f8ff;border: 1px dotted black;border-radius: 0.25em;box-sizing: border-box;margin-bottom: 0.5em;}#sk-container-id-3 div.sk-estimator:hover {background-color: #d4ebff;}#sk-container-id-3 div.sk-parallel-item::after {content: \"\";width: 100%;border-bottom: 1px solid gray;flex-grow: 1;}#sk-container-id-3 div.sk-label:hover label.sk-toggleable__label {background-color: #d4ebff;}#sk-container-id-3 div.sk-serial::before {content: \"\";position: absolute;border-left: 1px solid gray;box-sizing: border-box;top: 0;bottom: 0;left: 50%;z-index: 0;}#sk-container-id-3 div.sk-serial {display: flex;flex-direction: column;align-items: center;background-color: white;padding-right: 0.2em;padding-left: 0.2em;position: relative;}#sk-container-id-3 div.sk-item {position: relative;z-index: 1;}#sk-container-id-3 div.sk-parallel {display: flex;align-items: stretch;justify-content: center;background-color: white;position: relative;}#sk-container-id-3 div.sk-item::before, #sk-container-id-3 div.sk-parallel-item::before {content: \"\";position: absolute;border-left: 1px solid gray;box-sizing: border-box;top: 0;bottom: 0;left: 50%;z-index: -1;}#sk-container-id-3 div.sk-parallel-item {display: flex;flex-direction: column;z-index: 1;position: relative;background-color: white;}#sk-container-id-3 div.sk-parallel-item:first-child::after {align-self: flex-end;width: 50%;}#sk-container-id-3 div.sk-parallel-item:last-child::after {align-self: flex-start;width: 50%;}#sk-container-id-3 div.sk-parallel-item:only-child::after {width: 0;}#sk-container-id-3 div.sk-dashed-wrapped {border: 1px dashed gray;margin: 0 0.4em 0.5em 0.4em;box-sizing: border-box;padding-bottom: 0.4em;background-color: white;}#sk-container-id-3 div.sk-label label {font-family: monospace;font-weight: bold;display: inline-block;line-height: 1.2em;}#sk-container-id-3 div.sk-label-container {text-align: center;}#sk-container-id-3 div.sk-container {/* jupyter's `normalize.less` sets `[hidden] { display: none; }` but bootstrap.min.css set `[hidden] { display: none !important; }` so we also need the `!important` here to be able to override the default hidden behavior on the sphinx rendered scikit-learn.org. See: https://github.com/scikit-learn/scikit-learn/issues/21755 */display: inline-block !important;position: relative;}#sk-container-id-3 div.sk-text-repr-fallback {display: none;}</style><div id=\"sk-container-id-3\" class=\"sk-top-container\"><div class=\"sk-text-repr-fallback\"><pre>SVC(random_state=0)</pre><b>In a Jupyter environment, please rerun this cell to show the HTML representation or trust the notebook. <br />On GitHub, the HTML representation is unable to render, please try loading this page with nbviewer.org.</b></div><div class=\"sk-container\" hidden><div class=\"sk-item\"><div class=\"sk-estimator sk-toggleable\"><input class=\"sk-toggleable__control sk-hidden--visually\" id=\"sk-estimator-id-3\" type=\"checkbox\" checked><label for=\"sk-estimator-id-3\" class=\"sk-toggleable__label sk-toggleable__label-arrow\">SVC</label><div class=\"sk-toggleable__content\"><pre>SVC(random_state=0)</pre></div></div></div></div></div>"
      ],
      "text/plain": [
       "SVC(random_state=0)"
      ]
     },
     "execution_count": 27,
     "metadata": {},
     "output_type": "execute_result"
    }
   ],
   "source": [
    "from sklearn import svm\n",
    "svmclassifier = svm.SVC(random_state=0)\n",
    "\n",
    "# Train the SVM model\n",
    "svmclassifier.fit(X_train, y_train)\n"
   ]
  },
  {
   "cell_type": "code",
   "execution_count": 28,
   "id": "45047cc0",
   "metadata": {
    "execution": {
     "iopub.execute_input": "2023-06-18T12:38:03.685887Z",
     "iopub.status.busy": "2023-06-18T12:38:03.685495Z",
     "iopub.status.idle": "2023-06-18T12:38:03.699959Z",
     "shell.execute_reply": "2023-06-18T12:38:03.698965Z"
    },
    "id": "lPUHGBMAQw1-",
    "outputId": "32bfd8cb-0f32-4237-9ac8-1b865a988f6a",
    "papermill": {
     "duration": 0.032484,
     "end_time": "2023-06-18T12:38:03.702073",
     "exception": false,
     "start_time": "2023-06-18T12:38:03.669589",
     "status": "completed"
    },
    "tags": []
   },
   "outputs": [
    {
     "data": {
      "text/plain": [
       "'              precision    recall  f1-score   support\\n\\n           0       0.88      0.42      0.57        33\\n           1       0.82      0.98      0.89        90\\n\\n    accuracy                           0.83       123\\n   macro avg       0.85      0.70      0.73       123\\nweighted avg       0.84      0.83      0.81       123\\n'"
      ]
     },
     "execution_count": 28,
     "metadata": {},
     "output_type": "execute_result"
    }
   ],
   "source": [
    "model3 = svmclassifier.predict(X_test)\n",
    "classification_report(y_test, model3)"
   ]
  },
  {
   "cell_type": "code",
   "execution_count": 29,
   "id": "8b5c78d5",
   "metadata": {
    "execution": {
     "iopub.execute_input": "2023-06-18T12:38:03.734084Z",
     "iopub.status.busy": "2023-06-18T12:38:03.733710Z",
     "iopub.status.idle": "2023-06-18T12:38:03.741291Z",
     "shell.execute_reply": "2023-06-18T12:38:03.740329Z"
    },
    "id": "PNZeGm8AXMWh",
    "outputId": "09ac67bd-d6c9-4d0e-d0a0-bf74484f40e5",
    "papermill": {
     "duration": 0.026165,
     "end_time": "2023-06-18T12:38:03.743354",
     "exception": false,
     "start_time": "2023-06-18T12:38:03.717189",
     "status": "completed"
    },
    "tags": []
   },
   "outputs": [
    {
     "data": {
      "text/plain": [
       "array([[1400, 1900],\n",
       "       [ 200, 8800]])"
      ]
     },
     "execution_count": 29,
     "metadata": {},
     "output_type": "execute_result"
    }
   ],
   "source": [
    "confusion_matrix(y_test,model3)*100"
   ]
  },
  {
   "cell_type": "code",
   "execution_count": 30,
   "id": "bfc056ad",
   "metadata": {
    "execution": {
     "iopub.execute_input": "2023-06-18T12:38:03.774623Z",
     "iopub.status.busy": "2023-06-18T12:38:03.774265Z",
     "iopub.status.idle": "2023-06-18T12:38:03.781396Z",
     "shell.execute_reply": "2023-06-18T12:38:03.780461Z"
    },
    "id": "M5E36SDfshyu",
    "outputId": "7e110105-e56f-45f8-d92a-44407ed6f55b",
    "papermill": {
     "duration": 0.025096,
     "end_time": "2023-06-18T12:38:03.783329",
     "exception": false,
     "start_time": "2023-06-18T12:38:03.758233",
     "status": "completed"
    },
    "tags": []
   },
   "outputs": [
    {
     "data": {
      "text/plain": [
       "82.92682926829268"
      ]
     },
     "execution_count": 30,
     "metadata": {},
     "output_type": "execute_result"
    }
   ],
   "source": [
    "svm = accuracy_score(y_test, model3)*100\n",
    "svm"
   ]
  },
  {
   "cell_type": "markdown",
   "id": "6af1c1d4",
   "metadata": {
    "id": "T_mww7cTtVqH",
    "papermill": {
     "duration": 0.015216,
     "end_time": "2023-06-18T12:38:03.813835",
     "exception": false,
     "start_time": "2023-06-18T12:38:03.798619",
     "status": "completed"
    },
    "tags": []
   },
   "source": [
    "#Applying RandomForest to train the model"
   ]
  },
  {
   "cell_type": "code",
   "execution_count": 31,
   "id": "bf5f44cd",
   "metadata": {
    "execution": {
     "iopub.execute_input": "2023-06-18T12:38:03.845824Z",
     "iopub.status.busy": "2023-06-18T12:38:03.845421Z",
     "iopub.status.idle": "2023-06-18T12:38:04.149187Z",
     "shell.execute_reply": "2023-06-18T12:38:04.148209Z"
    },
    "id": "17z3I26GQwlb",
    "outputId": "bef6a583-ef66-4e2a-d8d4-a871f73de9dc",
    "papermill": {
     "duration": 0.322324,
     "end_time": "2023-06-18T12:38:04.151289",
     "exception": false,
     "start_time": "2023-06-18T12:38:03.828965",
     "status": "completed"
    },
    "tags": []
   },
   "outputs": [
    {
     "data": {
      "text/html": [
       "<style>#sk-container-id-4 {color: black;background-color: white;}#sk-container-id-4 pre{padding: 0;}#sk-container-id-4 div.sk-toggleable {background-color: white;}#sk-container-id-4 label.sk-toggleable__label {cursor: pointer;display: block;width: 100%;margin-bottom: 0;padding: 0.3em;box-sizing: border-box;text-align: center;}#sk-container-id-4 label.sk-toggleable__label-arrow:before {content: \"▸\";float: left;margin-right: 0.25em;color: #696969;}#sk-container-id-4 label.sk-toggleable__label-arrow:hover:before {color: black;}#sk-container-id-4 div.sk-estimator:hover label.sk-toggleable__label-arrow:before {color: black;}#sk-container-id-4 div.sk-toggleable__content {max-height: 0;max-width: 0;overflow: hidden;text-align: left;background-color: #f0f8ff;}#sk-container-id-4 div.sk-toggleable__content pre {margin: 0.2em;color: black;border-radius: 0.25em;background-color: #f0f8ff;}#sk-container-id-4 input.sk-toggleable__control:checked~div.sk-toggleable__content {max-height: 200px;max-width: 100%;overflow: auto;}#sk-container-id-4 input.sk-toggleable__control:checked~label.sk-toggleable__label-arrow:before {content: \"▾\";}#sk-container-id-4 div.sk-estimator input.sk-toggleable__control:checked~label.sk-toggleable__label {background-color: #d4ebff;}#sk-container-id-4 div.sk-label input.sk-toggleable__control:checked~label.sk-toggleable__label {background-color: #d4ebff;}#sk-container-id-4 input.sk-hidden--visually {border: 0;clip: rect(1px 1px 1px 1px);clip: rect(1px, 1px, 1px, 1px);height: 1px;margin: -1px;overflow: hidden;padding: 0;position: absolute;width: 1px;}#sk-container-id-4 div.sk-estimator {font-family: monospace;background-color: #f0f8ff;border: 1px dotted black;border-radius: 0.25em;box-sizing: border-box;margin-bottom: 0.5em;}#sk-container-id-4 div.sk-estimator:hover {background-color: #d4ebff;}#sk-container-id-4 div.sk-parallel-item::after {content: \"\";width: 100%;border-bottom: 1px solid gray;flex-grow: 1;}#sk-container-id-4 div.sk-label:hover label.sk-toggleable__label {background-color: #d4ebff;}#sk-container-id-4 div.sk-serial::before {content: \"\";position: absolute;border-left: 1px solid gray;box-sizing: border-box;top: 0;bottom: 0;left: 50%;z-index: 0;}#sk-container-id-4 div.sk-serial {display: flex;flex-direction: column;align-items: center;background-color: white;padding-right: 0.2em;padding-left: 0.2em;position: relative;}#sk-container-id-4 div.sk-item {position: relative;z-index: 1;}#sk-container-id-4 div.sk-parallel {display: flex;align-items: stretch;justify-content: center;background-color: white;position: relative;}#sk-container-id-4 div.sk-item::before, #sk-container-id-4 div.sk-parallel-item::before {content: \"\";position: absolute;border-left: 1px solid gray;box-sizing: border-box;top: 0;bottom: 0;left: 50%;z-index: -1;}#sk-container-id-4 div.sk-parallel-item {display: flex;flex-direction: column;z-index: 1;position: relative;background-color: white;}#sk-container-id-4 div.sk-parallel-item:first-child::after {align-self: flex-end;width: 50%;}#sk-container-id-4 div.sk-parallel-item:last-child::after {align-self: flex-start;width: 50%;}#sk-container-id-4 div.sk-parallel-item:only-child::after {width: 0;}#sk-container-id-4 div.sk-dashed-wrapped {border: 1px dashed gray;margin: 0 0.4em 0.5em 0.4em;box-sizing: border-box;padding-bottom: 0.4em;background-color: white;}#sk-container-id-4 div.sk-label label {font-family: monospace;font-weight: bold;display: inline-block;line-height: 1.2em;}#sk-container-id-4 div.sk-label-container {text-align: center;}#sk-container-id-4 div.sk-container {/* jupyter's `normalize.less` sets `[hidden] { display: none; }` but bootstrap.min.css set `[hidden] { display: none !important; }` so we also need the `!important` here to be able to override the default hidden behavior on the sphinx rendered scikit-learn.org. See: https://github.com/scikit-learn/scikit-learn/issues/21755 */display: inline-block !important;position: relative;}#sk-container-id-4 div.sk-text-repr-fallback {display: none;}</style><div id=\"sk-container-id-4\" class=\"sk-top-container\"><div class=\"sk-text-repr-fallback\"><pre>RandomForestClassifier(random_state=0)</pre><b>In a Jupyter environment, please rerun this cell to show the HTML representation or trust the notebook. <br />On GitHub, the HTML representation is unable to render, please try loading this page with nbviewer.org.</b></div><div class=\"sk-container\" hidden><div class=\"sk-item\"><div class=\"sk-estimator sk-toggleable\"><input class=\"sk-toggleable__control sk-hidden--visually\" id=\"sk-estimator-id-4\" type=\"checkbox\" checked><label for=\"sk-estimator-id-4\" class=\"sk-toggleable__label sk-toggleable__label-arrow\">RandomForestClassifier</label><div class=\"sk-toggleable__content\"><pre>RandomForestClassifier(random_state=0)</pre></div></div></div></div></div>"
      ],
      "text/plain": [
       "RandomForestClassifier(random_state=0)"
      ]
     },
     "execution_count": 31,
     "metadata": {},
     "output_type": "execute_result"
    }
   ],
   "source": [
    "from sklearn.ensemble import RandomForestClassifier\n",
    "rfcclassifier = RandomForestClassifier(random_state=0)\n",
    "rfcclassifier.fit(X_train, y_train)\n"
   ]
  },
  {
   "cell_type": "code",
   "execution_count": 32,
   "id": "c7cbd5a8",
   "metadata": {
    "execution": {
     "iopub.execute_input": "2023-06-18T12:38:04.184050Z",
     "iopub.status.busy": "2023-06-18T12:38:04.182979Z",
     "iopub.status.idle": "2023-06-18T12:38:04.208618Z",
     "shell.execute_reply": "2023-06-18T12:38:04.207888Z"
    },
    "id": "-aM9s_UlRMjv",
    "outputId": "91a5631e-6627-4377-ece2-03797309ac8a",
    "papermill": {
     "duration": 0.044375,
     "end_time": "2023-06-18T12:38:04.210840",
     "exception": false,
     "start_time": "2023-06-18T12:38:04.166465",
     "status": "completed"
    },
    "tags": []
   },
   "outputs": [
    {
     "data": {
      "text/plain": [
       "'              precision    recall  f1-score   support\\n\\n           0       0.88      0.42      0.57        33\\n           1       0.82      0.98      0.89        90\\n\\n    accuracy                           0.83       123\\n   macro avg       0.85      0.70      0.73       123\\nweighted avg       0.84      0.83      0.81       123\\n'"
      ]
     },
     "execution_count": 32,
     "metadata": {},
     "output_type": "execute_result"
    }
   ],
   "source": [
    "model4 = rfcclassifier.predict(X_test)\n",
    "classification_report(y_test, model3)\n",
    "\n"
   ]
  },
  {
   "cell_type": "code",
   "execution_count": 33,
   "id": "5a26c254",
   "metadata": {
    "execution": {
     "iopub.execute_input": "2023-06-18T12:38:04.244166Z",
     "iopub.status.busy": "2023-06-18T12:38:04.243516Z",
     "iopub.status.idle": "2023-06-18T12:38:04.251706Z",
     "shell.execute_reply": "2023-06-18T12:38:04.250782Z"
    },
    "id": "CVkre2stXQ1J",
    "outputId": "b811a180-35d9-49aa-ed2f-faaad62c7ffb",
    "papermill": {
     "duration": 0.026887,
     "end_time": "2023-06-18T12:38:04.253754",
     "exception": false,
     "start_time": "2023-06-18T12:38:04.226867",
     "status": "completed"
    },
    "tags": []
   },
   "outputs": [
    {
     "data": {
      "text/plain": [
       "array([[1500, 1800],\n",
       "       [1900, 7100]])"
      ]
     },
     "execution_count": 33,
     "metadata": {},
     "output_type": "execute_result"
    }
   ],
   "source": [
    "confusion_matrix(y_test,model4)*100"
   ]
  },
  {
   "cell_type": "code",
   "execution_count": 34,
   "id": "63cc5803",
   "metadata": {
    "execution": {
     "iopub.execute_input": "2023-06-18T12:38:04.286524Z",
     "iopub.status.busy": "2023-06-18T12:38:04.286173Z",
     "iopub.status.idle": "2023-06-18T12:38:04.293738Z",
     "shell.execute_reply": "2023-06-18T12:38:04.292621Z"
    },
    "id": "cHhyQzhoXRbA",
    "outputId": "59cda771-d5b7-452b-9410-46357730602e",
    "papermill": {
     "duration": 0.026132,
     "end_time": "2023-06-18T12:38:04.295626",
     "exception": false,
     "start_time": "2023-06-18T12:38:04.269494",
     "status": "completed"
    },
    "tags": []
   },
   "outputs": [
    {
     "data": {
      "text/plain": [
       "69.91869918699187"
      ]
     },
     "execution_count": 34,
     "metadata": {},
     "output_type": "execute_result"
    }
   ],
   "source": [
    "rfc=accuracy_score(y_test, model4)*100\n",
    "rfc"
   ]
  },
  {
   "cell_type": "code",
   "execution_count": 35,
   "id": "079a4eca",
   "metadata": {
    "execution": {
     "iopub.execute_input": "2023-06-18T12:38:04.328713Z",
     "iopub.status.busy": "2023-06-18T12:38:04.327737Z",
     "iopub.status.idle": "2023-06-18T12:38:04.613117Z",
     "shell.execute_reply": "2023-06-18T12:38:04.612046Z"
    },
    "id": "uJeecTtT5oPf",
    "outputId": "f6408b99-c832-4c3b-f2a8-d99f3df96c29",
    "papermill": {
     "duration": 0.304301,
     "end_time": "2023-06-18T12:38:04.615330",
     "exception": false,
     "start_time": "2023-06-18T12:38:04.311029",
     "status": "completed"
    },
    "tags": []
   },
   "outputs": [
    {
     "data": {
      "image/png": "[encoded data removed]",
      "text/plain": [
       "<Figure size 640x480 with 1 Axes>"
      ]
     },
     "metadata": {},
     "output_type": "display_data"
    },
    {
     "data": {
      "text/plain": [
       "<Figure size 1000x1000 with 0 Axes>"
      ]
     },
     "metadata": {},
     "output_type": "display_data"
    }
   ],
   "source": [
    "a = [1, 2, 3, 4]\n",
    "labels = [\"DTC\", \"LR\", \"SVM\", \"RFC\"]\n",
    "values = [lr, svm, dtc, rfc]\n",
    "accuracy_values = [round(val, 2) for val in values]\n",
    "plt.ylim(top=100)\n",
    "plt.bar(3, accuracy_values[2], label=\"Decision Tree Classifier\")\n",
    "plt.bar(1, accuracy_values[0], label=\"Logistic Regression\")\n",
    "plt.bar(2, accuracy_values[1], label=\"Support Vector Machine\")\n",
    "plt.bar(4, accuracy_values[3], label=\"Random Forest Classifier\")\n",
    "plt.grid(True, color='gray', linestyle='--', linewidth=0.5)\n",
    "plt.xticks(a, labels)\n",
    "plt.xlabel(\"Algorithms\")\n",
    "plt.ylabel(\"Accuracy percentage\")\n",
    "plt.title(\"Accuracy comparison of different classification models\")\n",
    "plt.legend(loc='upper right', fontsize='small')\n",
    "\n",
    "for i, v in enumerate(accuracy_values):\n",
    "    plt.text(a[i], v, str(v), ha='center', va='bottom')\n",
    "\n",
    "plt.figure(figsize=(10, 10))\n",
    "plt.show()"
   ]
  },
  {
   "cell_type": "markdown",
   "id": "24eb1335",
   "metadata": {
    "id": "kzbqKvY6zdrT",
    "papermill": {
     "duration": 0.017362,
     "end_time": "2023-06-18T12:38:04.649195",
     "exception": false,
     "start_time": "2023-06-18T12:38:04.631833",
     "status": "completed"
    },
    "tags": []
   },
   "source": [
    "This graph shows the accuracy level of all the classification algorithms used for prediction. It is observed that Logistic Regression model and Support Vector Machine gives the best accuracy.(Note: random state for all the models were set to 0)"
   ]
  }
 ],
 "metadata": {
  "kernelspec": {
   "display_name": "Python 3",
   "language": "python",
   "name": "python3"
  },
  "language_info": {
   "codemirror_mode": {
    "name": "ipython",
    "version": 3
   },
   "file_extension": ".py",
   "mimetype": "text/x-python",
   "name": "python",
   "nbconvert_exporter": "python",
   "pygments_lexer": "ipython3",
   "version": "3.10.10"
  },
  "papermill": {
   "default_parameters": {},
   "duration": 16.754291,
   "end_time": "2023-06-18T12:38:05.587868",
   "environment_variables": {},
   "exception": null,
   "input_path": "__notebook__.ipynb",
   "output_path": "__notebook__.ipynb",
   "parameters": {},
   "start_time": "2023-06-18T12:37:48.833577",
   "version": "2.4.0"
  }
 },
 "nbformat": 4,
 "nbformat_minor": 5
}
